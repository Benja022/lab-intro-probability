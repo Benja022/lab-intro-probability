{
 "cells": [
  {
   "cell_type": "markdown",
   "metadata": {},
   "source": [
    "# Lab | Intro to Probability"
   ]
  },
  {
   "cell_type": "markdown",
   "metadata": {},
   "source": [
    "**Objective**\n",
    "\n",
    "Welcome to this Intro to Probability lab, where we explore decision-making scenarios through the lens of probability and strategic analysis. In the business world, making informed decisions is crucial, especially when faced with uncertainties. This lab focuses on scenarios where probabilistic outcomes play a significant role in shaping strategies and outcomes. Students will engage in exercises that require assessing and choosing optimal paths based on data-driven insights. The goal is to enhance your skills by applying probability concepts to solve real-world problems."
   ]
  },
  {
   "cell_type": "markdown",
   "metadata": {},
   "source": [
    "**Challenge 1**"
   ]
  },
  {
   "cell_type": "markdown",
   "metadata": {},
   "source": [
    "#### Ironhack Airlines \n",
    "\n",
    "Often Airlines sell more tickets than they have seats available, this is called overbooking. Consider the following:\n",
    "- A plane has 450 seats. \n",
    "- Based on historical data we conclude that each individual passenger has a 3% chance of missing it's flight. \n",
    "\n",
    "If the Ironhack Airlines routinely sells 460 tickets, what is the chance that they have a seats for all passenger?"
   ]
  },
  {
   "cell_type": "code",
   "execution_count": 8,
   "metadata": {},
   "outputs": [
    {
     "name": "stdout",
     "output_type": "stream",
     "text": [
      "La probabilidad de que falten 10 pasajeros o más es: 0.1853\n"
     ]
    }
   ],
   "source": [
    "import scipy.stats as stats\n",
    "\n",
    "# Número de boletos vendidos\n",
    "n = 460\n",
    "# Probabilidad de que un pasajero no se presente\n",
    "p = 0.03\n",
    "# Número de pasajeros que se presentan\n",
    "k = 450\n",
    "\n",
    "# Calculamos la probabilidad de que 10 o más pasajeros no se presenten\n",
    "prob = 1 - stats.binom.cdf(k - 1, n, 1 - p)\n",
    "\n",
    "print(f\"La probabilidad de que falten 10 pasajeros o más es: {prob:.4f}\")"
   ]
  },
  {
   "cell_type": "markdown",
   "metadata": {},
   "source": [
    "**Challenge 2**"
   ]
  },
  {
   "cell_type": "markdown",
   "metadata": {},
   "source": [
    "#### Ironhack Call Center "
   ]
  },
  {
   "cell_type": "markdown",
   "metadata": {},
   "source": [
    "Suppose a customer service representative at a call center is handling customer complaints. Consider the following:\n",
    "- The probability of successfully resolving a customer complaint on the first attempt is 0.3. \n",
    "\n",
    "\n",
    "What is the probability that the representative needs to make at least three attempts before successfully resolving a customer complaint?"
   ]
  },
  {
   "cell_type": "code",
   "execution_count": 17,
   "metadata": {},
   "outputs": [
    {
     "name": "stdout",
     "output_type": "stream",
     "text": [
      "The probability that the representative needs at least three attempts is: 0.4900\n",
      "The probability that the representative needs exactly three attempts is: 0.1470\n"
     ]
    }
   ],
   "source": [
    "# Probabilidad de éxito en cada intento\n",
    "p = 0.3\n",
    "# Número de intentos\n",
    "k = 3\n",
    "\n",
    "# Calculamos la probabilidad de que se necesiten al menos 3 intentos (fallar en los primeros 2 intentos)\n",
    "prob_at_least_3_attempts = (1 - p) ** (k - 1)\n",
    "\n",
    "# Calculamos la probabilidad de que se necesiten exactamente 3 intentos (fallar en los primeros 2 intentos y luego tener éxito)\n",
    "prob_exactly_3_attempts = (1 - p) ** (k - 1) * p\n",
    "\n",
    "print(f\"The probability that the representative needs at least three attempts is: {prob_at_least_3_attempts:.4f}\")\n",
    "print(f\"The probability that the representative needs exactly three attempts is: {prob_exactly_3_attempts:.4f}\")"
   ]
  },
  {
   "cell_type": "markdown",
   "metadata": {},
   "source": [
    "**Challenge 3**"
   ]
  },
  {
   "cell_type": "markdown",
   "metadata": {},
   "source": [
    "#### Ironhack Website"
   ]
  },
  {
   "cell_type": "markdown",
   "metadata": {},
   "source": [
    "Consider a scenario related to Ironhack website traffic. Where:\n",
    "- our website takes on average 500 visits per hour.\n",
    "- the website's server is designed to handle up to 550 vists per hour.\n",
    "\n",
    "\n",
    "What is the probability of the website server being overwhelmed?"
   ]
  },
  {
   "cell_type": "code",
   "execution_count": 10,
   "metadata": {},
   "outputs": [
    {
     "name": "stdout",
     "output_type": "stream",
     "text": [
      "The probability of the website server being overwhelmed is: 0.0129\n"
     ]
    }
   ],
   "source": [
    "import scipy.stats as stats\n",
    "\n",
    "# Tasa promedio de visitas por hora\n",
    "lambda_ = 500\n",
    "# Capacidad máxima del servidor\n",
    "max_visits = 550\n",
    "\n",
    "# Calculamos la probabilidad de que el número de visitas sea mayor que 550\n",
    "prob = 1 - stats.poisson.cdf(max_visits, lambda_)\n",
    "\n",
    "print(f\"The probability of the website server being overwhelmed is: {prob:.4f}\")"
   ]
  },
  {
   "cell_type": "markdown",
   "metadata": {},
   "source": [
    "What is the probability of being overwhelmed at some point during a day? (consider 24hours)"
   ]
  },
  {
   "cell_type": "code",
   "execution_count": 11,
   "metadata": {},
   "outputs": [
    {
     "name": "stdout",
     "output_type": "stream",
     "text": [
      "The probability of the website server being overwhelmed at some point during a day is: 0.2677\n"
     ]
    }
   ],
   "source": [
    "import scipy.stats as stats\n",
    "\n",
    "# Tasa promedio de visitas por hora\n",
    "lambda_ = 500\n",
    "# Capacidad máxima del servidor\n",
    "max_visits = 550\n",
    "\n",
    "# Calculamos la probabilidad de que el número de visitas sea mayor que 550 en una hora\n",
    "prob_overwhelmed_per_hour = 1 - stats.poisson.cdf(max_visits, lambda_)\n",
    "\n",
    "# Calculamos la probabilidad de que el servidor no se vea abrumado en una hora\n",
    "prob_not_overwhelmed_per_hour = 1 - prob_overwhelmed_per_hour\n",
    "\n",
    "# Calculamos la probabilidad de que el servidor no se vea abrumado en ninguna de las 24 horas\n",
    "prob_not_overwhelmed_per_day = prob_not_overwhelmed_per_hour ** 24\n",
    "\n",
    "# Calculamos la probabilidad de que el servidor se vea abrumado al menos una vez en 24 horas\n",
    "prob_overwhelmed_per_day = 1 - prob_not_overwhelmed_per_day\n",
    "\n",
    "print(f\"The probability of the website server being overwhelmed at some point during a day is: {prob_overwhelmed_per_day:.4f}\")"
   ]
  },
  {
   "cell_type": "markdown",
   "metadata": {},
   "source": [
    "**Challenge 4**"
   ]
  },
  {
   "cell_type": "markdown",
   "metadata": {},
   "source": [
    "#### Ironhack Helpdesk"
   ]
  },
  {
   "cell_type": "markdown",
   "metadata": {},
   "source": [
    "Consider a scenario related to the time between arrivals of customers at a service desk.\n",
    "\n",
    "On average, a customers arrives every 10minutes.\n",
    "\n",
    "What is the probability that the next customer will arrive within the next 5 minutes?"
   ]
  },
  {
   "cell_type": "code",
   "execution_count": 12,
   "metadata": {},
   "outputs": [
    {
     "name": "stdout",
     "output_type": "stream",
     "text": [
      "The probability that the next customer will arrive within the next 5 minutes is: 0.3935\n"
     ]
    }
   ],
   "source": [
    "import scipy.stats as stats\n",
    "\n",
    "# Tasa promedio de llegadas (por minuto)\n",
    "lambda_ = 1 / 10\n",
    "# Tiempo en minutos\n",
    "t = 5\n",
    "\n",
    "# Calculamos la probabilidad de que el próximo cliente llegue dentro de los próximos 5 minutos\n",
    "prob = stats.expon.cdf(t, scale=1/lambda_)\n",
    "\n",
    "print(f\"The probability that the next customer will arrive within the next 5 minutes is: {prob:.4f}\")"
   ]
  },
  {
   "cell_type": "markdown",
   "metadata": {},
   "source": [
    "If there is no customer for 15minutes, employees can that a 5minutes break.\n",
    "\n",
    "What is the probability an employee taking a break?"
   ]
  },
  {
   "cell_type": "code",
   "execution_count": 13,
   "metadata": {},
   "outputs": [
    {
     "name": "stdout",
     "output_type": "stream",
     "text": [
      "The probability that an employee can take a break is: 0.2231\n"
     ]
    }
   ],
   "source": [
    "import scipy.stats as stats\n",
    "\n",
    "# Tasa promedio de llegadas (por minuto)\n",
    "lambda_ = 1 / 10\n",
    "# Tiempo en minutos\n",
    "t = 15\n",
    "\n",
    "# Calculamos la probabilidad de que no haya clientes durante 15 minutos\n",
    "prob = stats.expon.cdf(t, scale=1/lambda_)\n",
    "\n",
    "# La probabilidad de que no haya clientes durante 15 minutos es 1 menos la probabilidad acumulada\n",
    "prob_no_customers = 1 - prob\n",
    "\n",
    "print(f\"The probability that an employee can take a break is: {prob_no_customers:.4f}\")"
   ]
  },
  {
   "cell_type": "markdown",
   "metadata": {},
   "source": [
    "**Challenge 5**"
   ]
  },
  {
   "cell_type": "markdown",
   "metadata": {},
   "source": [
    "The weights of a certain species of birds follow a normal distribution with a mean weight of 150 grams and a standard deviation of 10 grams. \n",
    "\n",
    "- If we randomly select a bird, what is the probability that its weight is between 140 and 160 grams?"
   ]
  },
  {
   "cell_type": "code",
   "execution_count": 14,
   "metadata": {},
   "outputs": [
    {
     "name": "stdout",
     "output_type": "stream",
     "text": [
      "The probability that the bird's weight is between 140 and 160 grams is: 0.6827\n"
     ]
    }
   ],
   "source": [
    "import scipy.stats as stats\n",
    "\n",
    "# Parámetros de la distribución normal\n",
    "mu = 150\n",
    "sigma = 10\n",
    "\n",
    "# Pesos entre los que queremos calcular la probabilidad\n",
    "lower_bound = 140\n",
    "upper_bound = 160\n",
    "\n",
    "# Calculamos la probabilidad de que el peso esté entre 140 y 160 gramos\n",
    "prob = stats.norm.cdf(upper_bound, mu, sigma) - stats.norm.cdf(lower_bound, mu, sigma)\n",
    "\n",
    "print(f\"The probability that the bird's weight is between 140 and 160 grams is: {prob:.4f}\")"
   ]
  },
  {
   "cell_type": "markdown",
   "metadata": {},
   "source": [
    "**Challenge 6**"
   ]
  },
  {
   "cell_type": "markdown",
   "metadata": {},
   "source": [
    "If the lifetime (in hours) of a certain electronic component follows an exponential distribution with a mean lifetime of 50 hours, what is the probability that the component fails within the first 30 hours?"
   ]
  },
  {
   "cell_type": "code",
   "execution_count": 15,
   "metadata": {},
   "outputs": [
    {
     "name": "stdout",
     "output_type": "stream",
     "text": [
      "The probability that the component fails within the first 30 hours is: 0.4512\n"
     ]
    }
   ],
   "source": [
    "import scipy.stats as stats\n",
    "\n",
    "# Tasa promedio de fallos (por hora)\n",
    "lambda_ = 1 / 50\n",
    "# Tiempo en horas\n",
    "t = 30\n",
    "\n",
    "# Calculamos la probabilidad de que el componente falle dentro de las primeras 30 horas\n",
    "prob = stats.expon.cdf(t, scale=1/lambda_)\n",
    "\n",
    "print(f\"The probability that the component fails within the first 30 hours is: {prob:.4f}\")"
   ]
  }
 ],
 "metadata": {
  "kernelspec": {
   "display_name": "base",
   "language": "python",
   "name": "python3"
  },
  "language_info": {
   "codemirror_mode": {
    "name": "ipython",
    "version": 3
   },
   "file_extension": ".py",
   "mimetype": "text/x-python",
   "name": "python",
   "nbconvert_exporter": "python",
   "pygments_lexer": "ipython3",
   "version": "3.12.4"
  }
 },
 "nbformat": 4,
 "nbformat_minor": 2
}
